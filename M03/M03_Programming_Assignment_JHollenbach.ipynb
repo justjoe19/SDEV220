{
 "cells": [
  {
   "cell_type": "markdown",
   "id": "457d08f7",
   "metadata": {},
   "source": [
    "> 7.4 Make a list called things with these three strings as elements: \"mozzarella\", \"cinderella\", \"salmonella\".\n",
    "\n"
   ]
  },
  {
   "cell_type": "code",
   "execution_count": 1,
   "id": "faa43b92",
   "metadata": {
    "scrolled": true
   },
   "outputs": [],
   "source": [
    "things = [\"mozzarella\", \"cinderella\", \"salmonella\"]"
   ]
  },
  {
   "cell_type": "markdown",
   "id": "c2d5f5fb",
   "metadata": {},
   "source": [
    "> 7.5 Capitalize the element in things that refers to a person and then print the list. Did it change the element in the list?"
   ]
  },
  {
   "cell_type": "code",
   "execution_count": 2,
   "id": "33e861ce",
   "metadata": {},
   "outputs": [],
   "source": [
    "things[1] = things[1].capitalize()"
   ]
  },
  {
   "cell_type": "markdown",
   "id": "dd13b204",
   "metadata": {},
   "source": [
    "> 7.6 Make the cheesy element of things all uppercase and then print the list."
   ]
  },
  {
   "cell_type": "code",
   "execution_count": 3,
   "id": "a9d7a059",
   "metadata": {},
   "outputs": [
    {
     "name": "stdout",
     "output_type": "stream",
     "text": [
      "['MOZZARELLA', 'Cinderella', 'salmonella']\n"
     ]
    }
   ],
   "source": [
    "things[0] = things[0].upper()\n",
    "print(things)"
   ]
  },
  {
   "cell_type": "markdown",
   "id": "959da923",
   "metadata": {},
   "source": [
    "> 7.7 Delete the disease element from things, collect your Nobel Prize, and print the list."
   ]
  },
  {
   "cell_type": "code",
   "execution_count": 4,
   "id": "59a2ba2d",
   "metadata": {},
   "outputs": [
    {
     "name": "stdout",
     "output_type": "stream",
     "text": [
      "['MOZZARELLA', 'Cinderella']\n"
     ]
    }
   ],
   "source": [
    "del things[2]\n",
    "print(things)"
   ]
  },
  {
   "cell_type": "markdown",
   "id": "00ecee5d",
   "metadata": {},
   "source": [
    "> 9.1 Define a function called good() that returns the following list: ['Harry', 'Ron', 'Hermione']."
   ]
  },
  {
   "cell_type": "code",
   "execution_count": 5,
   "id": "0bb0affc",
   "metadata": {},
   "outputs": [
    {
     "data": {
      "text/plain": [
       "['Harry', 'Ron', 'Hermione']"
      ]
     },
     "execution_count": 5,
     "metadata": {},
     "output_type": "execute_result"
    }
   ],
   "source": [
    "def good():\n",
    "    return['Harry', 'Ron', 'Hermione']\n",
    "\n",
    "good()"
   ]
  },
  {
   "cell_type": "markdown",
   "id": "add1db0b",
   "metadata": {},
   "source": [
    "> 9.2 Define a generator function called get_odds() that returns the odd numbers from range(10). Use a for loop to find and print the third value returned."
   ]
  },
  {
   "cell_type": "code",
   "execution_count": 6,
   "id": "f13630f1",
   "metadata": {},
   "outputs": [
    {
     "name": "stdout",
     "output_type": "stream",
     "text": [
      "1\n",
      "3\n",
      "5\n",
      "7\n",
      "9\n"
     ]
    }
   ],
   "source": [
    "get_odds = (number for number in range(10) if number %2 != 0)\n",
    "\n",
    "for number in get_odds:\n",
    "    print(number)\n",
    "    "
   ]
  }
 ],
 "metadata": {
  "kernelspec": {
   "display_name": "Python 3 (ipykernel)",
   "language": "python",
   "name": "python3"
  },
  "language_info": {
   "codemirror_mode": {
    "name": "ipython",
    "version": 3
   },
   "file_extension": ".py",
   "mimetype": "text/x-python",
   "name": "python",
   "nbconvert_exporter": "python",
   "pygments_lexer": "ipython3",
   "version": "3.10.9"
  }
 },
 "nbformat": 4,
 "nbformat_minor": 5
}
