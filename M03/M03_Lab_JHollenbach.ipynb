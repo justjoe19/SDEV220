{
 "cells": [
  {
   "attachments": {},
   "cell_type": "markdown",
   "id": "e000a592",
   "metadata": {},
   "source": [
    "Complete the following steps:\n",
    "* Write a Python app that has the following classes:\n",
    "* A super class called Vehicle, which contains an attribute for vehicle type, such as car, truck, plane, boat, or a broomstick.\n",
    "* A class called Automobile which will inherit the attributes from Vehicle and also contain the following attributes:\n",
    "    * year\n",
    "    * make\n",
    "    * model\n",
    "    * doors (2 or 4)\n",
    "    * roof (solid or sun roof).\n",
    "\n",
    "* Write an app that will accept user input for a car. The app will store \"car\" into the vehicle type in your Vehicle super class. \n",
    "* The app will then ask the user for the year, make, model, doors, and type of roof and store thdata in the attributes above.\n",
    "* The app will then output the data in an easy-to-read and understandable format, such as this:\n",
    "    * Vehicle type: car\n",
    "    * Year: 2022\n",
    "    * Make: Toyota\n",
    "    * Model: Corolla\n",
    "    * Number of doors: 4\n",
    "    * Type of roof: sun roof"
   ]
  },
  {
   "cell_type": "code",
   "execution_count": 3,
   "id": "bc515106",
   "metadata": {},
   "outputs": [
    {
     "name": "stdout",
     "output_type": "stream",
     "text": [
      "Please provide the following details for the car:\n",
      "Year: 1967\n",
      "Make: Ford\n",
      "Model: Mustang\n",
      "Number of doors (2 or 4): 2\n",
      "Type of roof (solid or sun roof): solid\n",
      "\n",
      "Vehicle type: car\n",
      "Year: 1967\n",
      "Make: Ford\n",
      "Model: Mustang\n",
      "Number of doors: 2\n",
      "Type of roof: solid\n"
     ]
    }
   ],
   "source": [
    "# Joe Hollenbach\n",
    "# M03 Lab\n",
    "# 6/23/2023\n",
    "\n",
    "# Vehicle super class\n",
    "class Vehicle:\n",
    "        def __init__(self, vehicle_type):\n",
    "            self.vehicle_type = vehicle_type\n",
    "            \n",
    "# Automobile class that inherits from Vehicle\n",
    "class Automobile(Vehicle):\n",
    "    def __init__(self, vehicle_type):\n",
    "        super().__init__(vehicle_type)\n",
    "        self.year = None\n",
    "        self.make = None\n",
    "        self.model = None\n",
    "        self.doors = None\n",
    "        self.roof = None\n",
    "            \n",
    "# Get user input and store \"car\" as the vehicle type\n",
    "def user_input():\n",
    "    vehicle_type = \"car\"  \n",
    "    automobile = Automobile(vehicle_type)\n",
    "\n",
    "    print(\"Please provide the following details for the car:\")\n",
    "    \n",
    "    automobile.year = input(\"Year: \")\n",
    "    automobile.make = input(\"Make: \")\n",
    "    automobile.model = input(\"Model: \")\n",
    "    automobile.doors = input(\"Number of doors (2 or 4): \")\n",
    "    automobile.roof = input(\"Type of roof (solid or sun roof): \")\n",
    "\n",
    "    return automobile\n",
    "\n",
    "# Output the car details\n",
    "def display_car_details(car):\n",
    "    print(\"\\nVehicle type:\", car.vehicle_type)\n",
    "    print(\"Year:\", car.year)\n",
    "    print(\"Make:\", car.make)\n",
    "    print(\"Model:\", car.model)\n",
    "    print(\"Number of doors:\", car.doors)\n",
    "    print(\"Type of roof:\", car.roof)\n",
    "\n",
    "car = user_input()\n",
    "display_car_details(car)\n"
   ]
  }
 ],
 "metadata": {
  "kernelspec": {
   "display_name": "Python 3 (ipykernel)",
   "language": "python",
   "name": "python3"
  },
  "language_info": {
   "codemirror_mode": {
    "name": "ipython",
    "version": 3
   },
   "file_extension": ".py",
   "mimetype": "text/x-python",
   "name": "python",
   "nbconvert_exporter": "python",
   "pygments_lexer": "ipython3",
   "version": "3.10.9"
  }
 },
 "nbformat": 4,
 "nbformat_minor": 5
}
