{
 "cells": [
  {
   "cell_type": "markdown",
   "id": "e55c10d6",
   "metadata": {},
   "source": [
    "> 13.1 Write the current date as a string to the text file today.txt."
   ]
  },
  {
   "cell_type": "code",
   "execution_count": 29,
   "id": "b1b6df2f",
   "metadata": {},
   "outputs": [],
   "source": [
    "from datetime import date\n",
    "\n",
    "now = date.today().strftime(\"%m-%d-%Y\")\n",
    "\n",
    "with open(\"today.txt\", \"w\") as file:\n",
    "    file.write(now)"
   ]
  },
  {
   "cell_type": "markdown",
   "id": "7e8663b1",
   "metadata": {},
   "source": [
    "> 13.2 Read the text file today.txt into the string today_string."
   ]
  },
  {
   "cell_type": "code",
   "execution_count": 30,
   "id": "bb51b067",
   "metadata": {},
   "outputs": [
    {
     "name": "stdout",
     "output_type": "stream",
     "text": [
      "07-17-2023\n"
     ]
    }
   ],
   "source": [
    "with open(\"today.txt\", \"r\") as file:\n",
    "    today_string = file.read()\n",
    "    \n",
    "print(today_string)"
   ]
  },
  {
   "cell_type": "markdown",
   "id": "7e7ed9fb",
   "metadata": {},
   "source": [
    "> 13.3 Parse the date from today_string."
   ]
  },
  {
   "cell_type": "code",
   "execution_count": 37,
   "id": "9c61fb91",
   "metadata": {},
   "outputs": [
    {
     "name": "stdout",
     "output_type": "stream",
     "text": [
      "2023-07-17\n"
     ]
    }
   ],
   "source": [
    "date_format = \"%m-%d-%Y\"\n",
    "\n",
    "parsed_date = datetime.strptime(today_string, date_format).date()\n",
    "\n",
    "print(parsed_date)"
   ]
  },
  {
   "cell_type": "markdown",
   "id": "e59f7911",
   "metadata": {},
   "source": [
    "> 15.1 Use multiprocessing to create three separate processes. Make each one wait a random number of seconds between zero and one, print the current time, and then exit."
   ]
  },
  {
   "cell_type": "code",
   "execution_count": 43,
   "id": "080a34bd",
   "metadata": {},
   "outputs": [
    {
     "name": "stdout",
     "output_type": "stream",
     "text": [
      "Process 6271 says: I'm the main program\n"
     ]
    },
    {
     "name": "stderr",
     "output_type": "stream",
     "text": [
      "Traceback (most recent call last):\n",
      "  File \"<string>\", line 1, in <module>\n",
      "  File \"/Users/joemac/anaconda3/lib/python3.10/multiprocessing/spawn.py\", line 116, in spawn_main\n",
      "    exitcode = _main(fd, parent_sentinel)\n",
      "  File \"/Users/joemac/anaconda3/lib/python3.10/multiprocessing/spawn.py\", line 126, in _main\n",
      "    self = reduction.pickle.load(from_parent)\n",
      "AttributeError: Can't get attribute 'whoami' on <module '__main__' (built-in)>\n",
      "Traceback (most recent call last):\n",
      "  File \"<string>\", line 1, in <module>\n",
      "  File \"/Users/joemac/anaconda3/lib/python3.10/multiprocessing/spawn.py\", line 116, in spawn_main\n",
      "    exitcode = _main(fd, parent_sentinel)\n",
      "  File \"/Users/joemac/anaconda3/lib/python3.10/multiprocessing/spawn.py\", line 126, in _main\n",
      "    self = reduction.pickle.load(from_parent)\n",
      "AttributeError: Can't get attribute 'whoami' on <module '__main__' (built-in)>\n",
      "Traceback (most recent call last):\n",
      "  File \"<string>\", line 1, in <module>\n",
      "  File \"/Users/joemac/anaconda3/lib/python3.10/multiprocessing/spawn.py\", line 116, in spawn_main\n",
      "    exitcode = _main(fd, parent_sentinel)\n",
      "  File \"/Users/joemac/anaconda3/lib/python3.10/multiprocessing/spawn.py\", line 126, in _main\n",
      "    self = reduction.pickle.load(from_parent)\n",
      "AttributeError: Can't get attribute 'whoami' on <module '__main__' (built-in)>\n",
      "Traceback (most recent call last):\n",
      "  File \"<string>\", line 1, in <module>\n",
      "  File \"/Users/joemac/anaconda3/lib/python3.10/multiprocessing/spawn.py\", line 116, in spawn_main\n",
      "    exitcode = _main(fd, parent_sentinel)\n",
      "  File \"/Users/joemac/anaconda3/lib/python3.10/multiprocessing/spawn.py\", line 126, in _main\n",
      "    self = reduction.pickle.load(from_parent)\n",
      "AttributeError: Can't get attribute 'whoami' on <module '__main__' (built-in)>\n"
     ]
    }
   ],
   "source": [
    "#This does not work in Jupyter Notebook, but works on an IDE\n",
    "\n",
    "import multiprocessing as mp\n",
    "import random\n",
    "import time\n",
    "from datetime import datetime\n",
    "\n",
    "def print_current_time():\n",
    "    # Generate a random number of seconds between 0 and 1\n",
    "    wait_time = random.randint(0, 1)\n",
    "\n",
    "    # Wait for the random amount of time\n",
    "    time.sleep(wait_time)\n",
    "\n",
    "    # Get the current time\n",
    "    current_time = datetime.now().strftime(\"%Y-%m-%d %H:%M:%S:%f\")\n",
    "\n",
    "    # Print the current time\n",
    "    print(f\"Process ID: {mp.current_process().name}, Current Time: {current_time}\")\n",
    "\n",
    "if __name__ == '__main__':\n",
    "    processes = []\n",
    "\n",
    "    # Create three separate processes\n",
    "    for i in range(3):\n",
    "        process = mp.Process(target=print_current_time)\n",
    "        processes.append(process)\n",
    "\n",
    "    # Start the processes\n",
    "    for process in processes:\n",
    "        process.start()\n",
    "\n",
    "    # Wait for all processes to complete\n",
    "    for process in processes:\n",
    "        process.join()\n"
   ]
  },
  {
   "cell_type": "code",
   "execution_count": null,
   "id": "43fc82a6",
   "metadata": {},
   "outputs": [],
   "source": []
  },
  {
   "cell_type": "code",
   "execution_count": null,
   "id": "c9be56cd",
   "metadata": {},
   "outputs": [],
   "source": []
  }
 ],
 "metadata": {
  "kernelspec": {
   "display_name": "Python 3 (ipykernel)",
   "language": "python",
   "name": "python3"
  },
  "language_info": {
   "codemirror_mode": {
    "name": "ipython",
    "version": 3
   },
   "file_extension": ".py",
   "mimetype": "text/x-python",
   "name": "python",
   "nbconvert_exporter": "python",
   "pygments_lexer": "ipython3",
   "version": "3.10.9"
  }
 },
 "nbformat": 4,
 "nbformat_minor": 5
}
